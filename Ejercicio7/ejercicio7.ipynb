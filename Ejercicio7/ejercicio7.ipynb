{
 "cells": [
  {
   "cell_type": "code",
   "execution_count": 1,
   "id": "aecaf346-443d-4468-ae4d-1e22a22c6a70",
   "metadata": {},
   "outputs": [],
   "source": [
    "# Graficas\n",
    "import matplotlib.pyplot as plt\n",
    "from collections import Counter\n",
    "\n",
    "# Scripts\n",
    "from code_base.emir import ordenar_asc\n",
    "from code_base.alonso import frec_abs\n",
    "from code_base.barrera import format_str\n",
    "from code_base.fuentes import frec_abs\n",
    "from code_base.sanchez import calcular_frecuencia_relativa\n",
    "from code_base.cruz import calcular_rango\n",
    "from code_base.aislinn import calcular_limites\n"
   ]
  },
  {
   "cell_type": "code",
   "execution_count": 2,
   "id": "33afc1f7-a130-4198-b629-f63f872a9dcd",
   "metadata": {},
   "outputs": [],
   "source": [
    "datos = [\"Pumas\", \"América\", \"Chivas\", \"Pumas\", \"Chivas\", \"Chivas\", \"América\", \"Toluca\", \"Toluca\", \"Pumas\", \"Santos\", \"Necaxa\", \"América\", \"América\", \"América\", \"Pumas\", \"Santos\", \"Pumas\", \"Pumas\", \"Pumas\", \"América\", \"Chivas\", \"América\", \"Pumas\", \"Necaxa\", \"Toluca\", \"Chivas\", \"América\", \"Toluca\", \"Santos\"]"
   ]
  },
  {
   "cell_type": "code",
   "execution_count": 3,
   "id": "f84ddcd6-e0b4-48a3-8ae1-30e3c4b39afd",
   "metadata": {},
   "outputs": [
    {
     "name": "stdout",
     "output_type": "stream",
     "text": [
      "['América', 'América', 'América', 'América', 'América', 'América', 'América', 'América', 'Chivas', 'Chivas', 'Chivas', 'Chivas', 'Chivas', 'Necaxa', 'Necaxa', 'Pumas', 'Pumas', 'Pumas', 'Pumas', 'Pumas', 'Pumas', 'Pumas', 'Pumas', 'Santos', 'Santos', 'Santos', 'Toluca', 'Toluca', 'Toluca', 'Toluca']\n"
     ]
    }
   ],
   "source": [
    "arreglo_ordenado = ordenar_asc(datos)\n",
    "print(arreglo_ordenado)"
   ]
  },
  {
   "cell_type": "code",
   "execution_count": 4,
   "id": "afa81301-c3f1-4b81-8607-60faa1ff088f",
   "metadata": {},
   "outputs": [
    {
     "name": "stdout",
     "output_type": "stream",
     "text": [
      "['AMÉRICA', 'AMÉRICA', 'AMÉRICA', 'AMÉRICA', 'AMÉRICA', 'AMÉRICA', 'AMÉRICA', 'AMÉRICA', 'CHIVAS', 'CHIVAS', 'CHIVAS', 'CHIVAS', 'CHIVAS', 'NECAXA', 'NECAXA', 'PUMAS', 'PUMAS', 'PUMAS', 'PUMAS', 'PUMAS', 'PUMAS', 'PUMAS', 'PUMAS', 'SANTOS', 'SANTOS', 'SANTOS', 'TOLUCA', 'TOLUCA', 'TOLUCA', 'TOLUCA']\n"
     ]
    }
   ],
   "source": [
    "datos_formateados = format_str(datos)\n",
    "print(datos_formateados)\n"
   ]
  },
  {
   "cell_type": "code",
   "execution_count": 5,
   "id": "8551a57e-f336-4bf0-a9ba-b1f646417ebc",
   "metadata": {},
   "outputs": [
    {
     "name": "stdout",
     "output_type": "stream",
     "text": [
      "Clases: ['Necaxa', 'Santos', 'Toluca', 'Chivas', 'América', 'Pumas']\n",
      "Frecuencia Absoluta: [2, 3, 4, 5, 8, 8]\n"
     ]
    }
   ],
   "source": [
    "clases, fa_absoluta = frec_abs(datos)\n",
    "print(\"Clases:\", clases)\n",
    "print(\"Frecuencia Absoluta:\", fa_absoluta)"
   ]
  },
  {
   "cell_type": "code",
   "execution_count": 6,
   "id": "c98e7462-c2ce-4a88-afdd-b45cd5250d1f",
   "metadata": {},
   "outputs": [
    {
     "name": "stdout",
     "output_type": "stream",
     "text": [
      "\n",
      "Orden descendente por frecuencia absoluta:\n",
      "Clase: Pumas, Frecuencia absoluta: 8\n",
      "Clase: América, Frecuencia absoluta: 8\n",
      "Clase: Chivas, Frecuencia absoluta: 5\n",
      "Clase: Toluca, Frecuencia absoluta: 4\n",
      "Clase: Santos, Frecuencia absoluta: 3\n",
      "Clase: Necaxa, Frecuencia absoluta: 2\n"
     ]
    }
   ],
   "source": [
    "clases_asc, fa_absoluta_asc = frec_abs(datos)\n",
    "clases_desc = clases_asc[::-1]\n",
    "fa_absoluta_desc = fa_absoluta_asc[::-1]\n",
    "\n",
    "d = clases_asc, fa_absoluta_desc \n",
    "    \n",
    "print(\"\\nOrden descendente por frecuencia absoluta:\")\n",
    "for clase, frecuencia in zip(clases_desc, fa_absoluta_desc):\n",
    "    print(f\"Clase: {clase}, Frecuencia absoluta: {frecuencia}\")"
   ]
  },
  {
   "cell_type": "code",
   "execution_count": 7,
   "id": "89bc997f-7bf9-46ba-88d3-b63b7f616e4f",
   "metadata": {},
   "outputs": [
    {
     "name": "stdout",
     "output_type": "stream",
     "text": [
      "Frecuencias relativas:\n",
      "América: 0.27\n",
      "Chivas: 0.17\n",
      "Necaxa: 0.07\n",
      "Pumas: 0.27\n",
      "Santos: 0.10\n",
      "Toluca: 0.13\n"
     ]
    }
   ],
   "source": [
    "frecuencias_relativas = calcular_frecuencia_relativa(datos)\n",
    "print(\"Frecuencias relativas:\")\n",
    "for elemento, frecuencia in frecuencias_relativas.items():\n",
    "    print(f\"{elemento}: {frecuencia:.2f}\")"
   ]
  },
  {
   "cell_type": "code",
   "execution_count": 23,
   "id": "5b097bf3-bf49-4d7b-9af8-c0b0e00c479f",
   "metadata": {},
   "outputs": [
    {
     "name": "stdout",
     "output_type": "stream",
     "text": [
      "[8, 13, 15, 23, 26, 30]\n"
     ]
    }
   ],
   "source": [
    "frecuencias_acumuladas = calcular_frecuencias_acumuladas(frecuencias_clase)\n",
    "print(frecuencias_acumuladas)"
   ]
  },
  {
   "cell_type": "code",
   "execution_count": 24,
   "id": "0ba90bdd-f790-471b-bd2c-7a598942744e",
   "metadata": {},
   "outputs": [
    {
     "name": "stdout",
     "output_type": "stream",
     "text": [
      "Clase        Frecuencia Absoluta    Frecuencia Relativa    Frecuencia Acumulada  \n",
      "==================================================================================================================================\n",
      "América        8                      0.27                   8                     \n",
      "Chivas         5                      0.17                   13                    \n",
      "Necaxa         2                      0.07                   15                    \n",
      "Pumas          8                      0.27                   23                    \n",
      "Santos         3                      0.10                   26                    \n",
      "Toluca         4                      0.13                   30                    \n"
     ]
    }
   ],
   "source": [
    "indices_clases, clase_a_indice = asignar_indices(datos)\n",
    "clases = list(clase_a_indice.keys())\n",
    "\n",
    "\n",
    "\n",
    "frecuencias_clase = calcular_frecuencias(datos, clases)\n",
    "\n",
    "\n",
    "total_datos = len(datos)\n",
    "frecuencias_relativas = calcular_frecuencias_relativas(frecuencias_clase, total_datos)\n",
    "\n",
    "\n",
    "frecuencias_acumuladas = calcular_frecuencias_acumuladas(frecuencias_clase)\n",
    "\n",
    "\n",
    "print(f\"{'Clase':<12} {'Frecuencia Absoluta':<22} {'Frecuencia Relativa':<22} {'Frecuencia Acumulada':<22}\")\n",
    "print(\"=\"*130)\n",
    "for i in range(len(clases)):\n",
    "    print(f\"{clases[i]:<12}   {frecuencias_clase[i]:<22} {frecuencias_relativas[i]:<22.2f} {frecuencias_acumuladas[i]:<22}\")"
   ]
  },
  {
   "cell_type": "code",
   "execution_count": null,
   "id": "666a5e2e-bc3c-4ddc-b3dd-1a4dfb22ccb7",
   "metadata": {},
   "outputs": [],
   "source": []
  },
  {
   "cell_type": "code",
   "execution_count": null,
   "id": "75c37b53-4682-49f9-99d4-2204f5d491e9",
   "metadata": {},
   "outputs": [],
   "source": [
    "\n"
   ]
  }
 ],
 "metadata": {
  "kernelspec": {
   "display_name": "Python 3 (ipykernel)",
   "language": "python",
   "name": "python3"
  },
  "language_info": {
   "codemirror_mode": {
    "name": "ipython",
    "version": 3
   },
   "file_extension": ".py",
   "mimetype": "text/x-python",
   "name": "python",
   "nbconvert_exporter": "python",
   "pygments_lexer": "ipython3",
   "version": "3.11.4"
  }
 },
 "nbformat": 4,
 "nbformat_minor": 5
}
